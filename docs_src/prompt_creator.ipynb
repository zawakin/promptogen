{
 "cells": [
  {
   "cell_type": "markdown",
   "metadata": {},
   "source": [
    "# プロンプトを自動生成してみよう\n",
    "\n",
    "`PromptCreator` は、目的と背景を入力として、プロンプトを自動生成するプロンプトです。\n",
    "\n",
    "PromptGenでは、プロンプトのモデルそのものも入出力パラメータとして扱うことができます。これにより、プロンプトを自動生成するプロンプトを作成することができます。"
   ]
  },
  {
   "cell_type": "code",
   "execution_count": 1,
   "metadata": {},
   "outputs": [],
   "source": [
    "import promptgen as pg"
   ]
  },
  {
   "cell_type": "code",
   "execution_count": 2,
   "metadata": {},
   "outputs": [
    {
     "name": "stdout",
     "output_type": "stream",
     "text": [
      "<PromptCollection>\n",
      "Number of prompts: 6\n",
      "\n",
      "Prompts:\n",
      "- TextCategorizer: (text: str, categories: list) -> (category: str, found: bool)\n",
      "- TextSummarizer: (text: str) -> (summary: str)\n",
      "- PromptExampleCreator: (prompt: Prompt, n: int) -> (examples: list)\n",
      "- PromptCreator: (purpose: str, background: str) -> (prompt: Prompt)\n",
      "- PromptOptimizer: (original_prompt: Prompt, background: str) -> (optimized_prompt: Prompt)\n",
      "- PythonCodeGenerator: (task: str) -> (reason: str, code: str)\n",
      "\n"
     ]
    }
   ],
   "source": [
    "collection = pg.PromptCollection(load_predefined=True)\n",
    "print(collection)"
   ]
  },
  {
   "cell_type": "markdown",
   "metadata": {},
   "source": [
    "## プロンプトを生成するプロンプト\n",
    "\n",
    "`PromptCreator` は、プロンプトを生成するプロンプトです。\n",
    "\n",
    "入力パラメータは、以下の通りです。\n",
    "\n",
    "```python\n",
    "class PromptCreatorInput(InputValue):\n",
    "    purpose: str\n",
    "    background: str\n",
    "```\n",
    "\n",
    "出力パラメータは、以下の通りです。\n",
    "\n",
    "```python\n",
    "class PromptCreatorOutput(OutputValue):\n",
    "    prompt: Prompt\n",
    "```"
   ]
  },
  {
   "cell_type": "code",
   "execution_count": 3,
   "metadata": {},
   "outputs": [
    {
     "data": {
      "text/plain": [
       "<PromptCollection>\n",
       "Number of prompts: 6\n",
       "\n",
       "Prompts:\n",
       "- TextCategorizer: (text: str, categories: list) -> (category: str, found: bool)\n",
       "- TextSummarizer: (text: str) -> (summary: str)\n",
       "- PromptExampleCreator: (prompt: Prompt, n: int) -> (examples: list)\n",
       "- PromptCreator: (purpose: str, background: str) -> (prompt: Prompt)\n",
       "- PromptOptimizer: (original_prompt: Prompt, background: str) -> (optimized_prompt: Prompt)\n",
       "- PythonCodeGenerator: (task: str) -> (reason: str, code: str)"
      ]
     },
     "execution_count": 3,
     "metadata": {},
     "output_type": "execute_result"
    }
   ],
   "source": [
    "collection"
   ]
  },
  {
   "cell_type": "code",
   "execution_count": 4,
   "metadata": {},
   "outputs": [
    {
     "name": "stdout",
     "output_type": "stream",
     "text": [
      "PromptCreator: (purpose: str, background: str) -> (prompt: Prompt)\n"
     ]
    }
   ],
   "source": [
    "prompt_creator = collection['PromptCreator']\n",
    "print(prompt_creator)"
   ]
  },
  {
   "cell_type": "code",
   "execution_count": 5,
   "metadata": {},
   "outputs": [
    {
     "data": {
      "text/plain": [
       "Prompt: PromptCreator\n",
       "\n",
       "Create a prompt from the given purpose. Don't create an example with the input purpose. Instead, create an example with a different purpose. Consider background information that is necessary to understand the purpose.\n",
       "\n",
       "Input Parameters:\n",
       "    - purpose (str): purpose of the prompt\n",
       "    - background (str): background of the prompt\n",
       "\n",
       "Output Parameters:\n",
       "    - prompt (Prompt): prompt created from the given purpose. Is has 'name', 'description', 'input_parameters', 'output_parameters', 'template', and 'examples'."
      ]
     },
     "execution_count": 5,
     "metadata": {},
     "output_type": "execute_result"
    }
   ],
   "source": [
    "prompt_creator"
   ]
  },
  {
   "cell_type": "markdown",
   "metadata": {},
   "source": [
    "プロンプトを文字列にフォーマットすると、以下のようになります。"
   ]
  },
  {
   "cell_type": "code",
   "execution_count": 6,
   "metadata": {},
   "outputs": [
    {
     "name": "stdout",
     "output_type": "stream",
     "text": [
      "You are an AI named \"PromptCreator\".\n",
      "Create a prompt from the given purpose. Don't create an example with the input purpose. Instead, create an example with a different purpose. Consider background information that is necessary to understand the purpose.\n",
      "You should follow 'Template' format. The format is 'key: value'.\n",
      "\n",
      "Input Parameters:\n",
      "  - purpose: purpose of the prompt\n",
      "  - background: background of the prompt\n",
      "\n",
      "Output Parameters:\n",
      "  - prompt: prompt created from the given purpose. Is has 'name', 'description', 'input_parameters', 'output_parameters', 'template', and 'examples'.\n",
      "\n",
      "Template:\n",
      "Input:\n",
      "purpose: \"\"\"purpose of the prompt\"\"\"\n",
      "background: \"\"\"background of the prompt\"\"\"\n",
      "Output:\n",
      "prompt: { 'name': 'sample-new prompt',\n",
      "  'description': 'A sample prompt.',\n",
      "  'input_parameters': [{'name': 'input1', 'description': 'The first input parameter.'}, {'name': 'input2', 'description': 'The second input parameter.'}],\n",
      "  'output_parameters': [{'name': 'output1', 'description': 'The first output parameter.'}, {'name': 'output2', 'description': 'The second output parameter.'}],\n",
      "  'template': {'input': {'input1': 'Hello, world!', 'input2': 'Hello, world!'}, 'output': {'output1': 'Hello, world!', 'output2': 'Hello, world!'}},\n",
      "  'examples': [ {'input': {'input1': 'Hello, world!', 'input2': 'Hello, world!'}, 'output': {'output1': 'Hello, world!', 'output2': 'Hello, world!'}},\n",
      "                {'input': {'input1': 'Hello, world!', 'input2': 'Hello, world!'}, 'output': {'output1': 'Hello, world!', 'output2': 'Hello, world!'}}]}\n",
      "\n",
      "Example 1:\n",
      "Input:\n",
      "purpose: \"\"\"Categorize the given text into one of the given categories.\"\"\"\n",
      "background: \"\"\"The given text may be a sentence, a paragraph, or a document.\"\"\"\n",
      "Output:\n",
      "prompt: { 'name': 'TextCategorizer',\n",
      "  'description': 'Categorize the given text',\n",
      "  'input_parameters': [ {'name': 'text', 'description': 'The text to be categorized'},\n",
      "                        {'name': 'categories', 'description': 'The categories to categorize the text into'}],\n",
      "  'output_parameters': [ {'name': 'category', 'description': 'The category the text belongs to'},\n",
      "                         {'name': 'found', 'description': 'Whether the category was found in the text'}],\n",
      "  'template': {'input': {'text': 'text', 'categories': ['category 1', 'category 2']}, 'output': {'category': 'category 1', 'found': True}},\n",
      "  'examples': [ { 'input': { 'text': 'A recent study shows that regular exercise can help improve cognitive function in older adults.',\n",
      "                             'categories': ['Health', 'Science', 'Technology']},\n",
      "                  'output': {'category': 'Health', 'found': True}}]}\n",
      "\n",
      "Example 2:\n",
      "Input:\n",
      "purpose: \"\"\"Python code generator\"\"\"\n",
      "background: \"\"\"style: input: (task: str), output: (reason: str, code: str)\"\"\"\n",
      "Output:\n",
      "prompt: { 'name': 'PythonCodeGenerator',\n",
      "  'description': 'Generate Python code based on the given task',\n",
      "  'input_parameters': [{'name': 'task', 'description': 'The task for which Python code needs to be generated'}],\n",
      "  'output_parameters': [ {'name': 'reason', 'description': 'Reason for the generated Python code'},\n",
      "                         {'name': 'code', 'description': 'Python code generated to complete the task'}],\n",
      "  'template': {'input': {'task': 'task'}, 'output': {'reason': 'reason', 'code': 'code'}},\n",
      "  'examples': [ { 'input': {'task': 'Create a function that calculates the factorial of a number'},\n",
      "                  'output': { 'reason': 'Factorial function is a common use case in Python programming',\n",
      "                              'code': 'def factorial(n):\\n    if n == 0:\\n        return 1\\n    else:\\n        return n * factorial(n-1)'}}]}\n",
      "\n"
     ]
    }
   ],
   "source": [
    "formatter = pg.KeyValuePromptFormatter()\n",
    "\n",
    "print(formatter.format_prompt_without_input(prompt=prompt_creator))"
   ]
  },
  {
   "cell_type": "markdown",
   "metadata": {},
   "source": [
    "## 大規模言語モデルの準備\n",
    "\n",
    "今回は、 `gpt-3.5-turbo` を使います。"
   ]
  },
  {
   "cell_type": "code",
   "execution_count": 7,
   "metadata": {},
   "outputs": [],
   "source": [
    "import openai\n",
    "import os\n",
    "\n",
    "from dotenv import load_dotenv\n",
    "load_dotenv('../../.env')\n",
    "\n",
    "openai.api_key = os.getenv(\"OPENAI_API_KEY\")\n",
    "openai.organization = os.getenv(\"OPENAI_ORG_ID\")\n",
    "\n",
    "def generate_llm_response(prompt: str, model: str) -> str:\n",
    "    resp = openai.ChatCompletion.create(model=model, messages=[\n",
    "        {'role': 'user', 'content': prompt}\n",
    "    ], max_tokens=2048)\n",
    "    return resp['choices'][0]['message'].get('content', '')"
   ]
  },
  {
   "cell_type": "code",
   "execution_count": 8,
   "metadata": {},
   "outputs": [],
   "source": [
    "class PromptCreatorInput(pg.InputValue):\n",
    "    purpose: str\n",
    "    background: str\n",
    "\n",
    "class PromptCreatorOutput(pg.OutputValue):\n",
    "    prompt: pg.Prompt"
   ]
  },
  {
   "cell_type": "code",
   "execution_count": 14,
   "metadata": {},
   "outputs": [],
   "source": [
    "class TaskSplitterInput(pg.InputValue):\n",
    "    task: str\n",
    "\n",
    "class Subtask(pg.DataClass):\n",
    "    name: str\n",
    "    description: str\n",
    "    difficulty: int\n",
    "\n",
    "class TaskSplitterOutput(pg.OutputValue):\n",
    "    subtasks: list[Subtask]\n",
    "\n"
   ]
  },
  {
   "cell_type": "code",
   "execution_count": 10,
   "metadata": {},
   "outputs": [
    {
     "data": {
      "text/plain": [
       "Prompt: TaskSplitter\n",
       "\n",
       "Split a task into subtasks\n",
       "\n",
       "Input Parameters:\n",
       "    - task (str): The task to be split into subtasks\n",
       "\n",
       "Output Parameters:\n",
       "    - reason (str): Reason for splitting the task\n",
       "    - subtasks (list): List of subtasks with their name, description and difficulty"
      ]
     },
     "execution_count": 10,
     "metadata": {},
     "output_type": "execute_result"
    }
   ],
   "source": [
    "raw_req = formatter.format_prompt(prompt_creator, PromptCreatorInput(\n",
    "    purpose='Split a task into subtasks',\n",
    "    background='style: (task: str) -> (reason: str, subtasks: list[Subtask]), where Subtask is a dict with keys (name: str, description: str, difficulty: int)')\n",
    ")\n",
    "raw_resp = generate_llm_response(raw_req, 'gpt-3.5-turbo')\n",
    "resp = PromptCreatorOutput.from_dataclass(formatter.parse(prompt_creator, raw_resp))\n",
    "task_splitter = pg.Prompt.from_dict(resp.prompt)\n",
    "\n",
    "task_splitter"
   ]
  },
  {
   "cell_type": "markdown",
   "metadata": {},
   "source": [
    "作成したプロンプトを使って、タスクを分解してみましょう。"
   ]
  },
  {
   "cell_type": "code",
   "execution_count": 11,
   "metadata": {},
   "outputs": [
    {
     "name": "stdout",
     "output_type": "stream",
     "text": [
      "reason: \"\"\"Breaking down complex tasks into smaller subtasks makes them more manageable and helps improve productivity\"\"\"\n",
      "subtasks: [{'name': 'Outline', 'description': 'Create a rough outline of the book with chapter titles and main ideas', 'difficulty': 2}, {'name': 'Research', 'description': 'Gather information and data to support the book’s main ideas', 'difficulty': 3}, {'name': 'Write first draft', 'description': 'Write the first draft of the book from beginning to end', 'difficulty': 5}, {'name': 'Revise', 'description': 'Edit and revise the book multiple times to improve its readability and overall quality', 'difficulty': 4}, {'name': 'Proofread and finalize', 'description': 'Check for spelling and grammar errors and finalize the book', 'difficulty': 2}]\n"
     ]
    }
   ],
   "source": [
    "raw_req = formatter.format_prompt(task_splitter, pg.InputValue.from_dict({\n",
    "    'task': 'Write a book'\n",
    "}))\n",
    "raw_resp = generate_llm_response(raw_req, 'gpt-3.5-turbo')\n",
    "\n",
    "print(raw_resp)"
   ]
  },
  {
   "cell_type": "code",
   "execution_count": 12,
   "metadata": {},
   "outputs": [
    {
     "data": {
      "text/plain": [
       "TaskSplitterOutput(subtasks=[{'name': 'Outline', 'description': 'Create a rough outline of the book with chapter titles and main ideas', 'difficulty': 2}, {'name': 'Research', 'description': 'Gather information and data to support the book’s main ideas', 'difficulty': 3}, {'name': 'Write first draft', 'description': 'Write the first draft of the book from beginning to end', 'difficulty': 5}, {'name': 'Revise', 'description': 'Edit and revise the book multiple times to improve its readability and overall quality', 'difficulty': 4}, {'name': 'Proofread and finalize', 'description': 'Check for spelling and grammar errors and finalize the book', 'difficulty': 2}], reason='Breaking down complex tasks into smaller subtasks makes them more manageable and helps improve productivity')"
      ]
     },
     "execution_count": 12,
     "metadata": {},
     "output_type": "execute_result"
    }
   ],
   "source": [
    "output_value = TaskSplitterOutput.from_dataclass(formatter.parse(task_splitter, raw_resp))\n",
    "output_value"
   ]
  },
  {
   "cell_type": "code",
   "execution_count": 13,
   "metadata": {},
   "outputs": [
    {
     "ename": "AttributeError",
     "evalue": "'dict' object has no attribute 'name'",
     "output_type": "error",
     "traceback": [
      "\u001b[0;31m---------------------------------------------------------------------------\u001b[0m",
      "\u001b[0;31mAttributeError\u001b[0m                            Traceback (most recent call last)",
      "Cell \u001b[0;32mIn[13], line 2\u001b[0m\n\u001b[1;32m      1\u001b[0m \u001b[38;5;28;01mfor\u001b[39;00m subtask \u001b[38;5;129;01min\u001b[39;00m output_value\u001b[38;5;241m.\u001b[39msubtasks:\n\u001b[0;32m----> 2\u001b[0m     \u001b[38;5;28mprint\u001b[39m(\u001b[38;5;124mf\u001b[39m\u001b[38;5;124m'\u001b[39m\u001b[38;5;132;01m{\u001b[39;00m\u001b[43msubtask\u001b[49m\u001b[38;5;241;43m.\u001b[39;49m\u001b[43mname\u001b[49m\u001b[38;5;132;01m}\u001b[39;00m\u001b[38;5;124m: \u001b[39m\u001b[38;5;132;01m{\u001b[39;00msubtask\u001b[38;5;241m.\u001b[39mdescription\u001b[38;5;132;01m}\u001b[39;00m\u001b[38;5;124m, difficulty: \u001b[39m\u001b[38;5;132;01m{\u001b[39;00msubtask\u001b[38;5;241m.\u001b[39mdifficulty\u001b[38;5;132;01m}\u001b[39;00m\u001b[38;5;124m'\u001b[39m)\n",
      "\u001b[0;31mAttributeError\u001b[0m: 'dict' object has no attribute 'name'"
     ]
    }
   ],
   "source": [
    "for subtask in output_value.subtasks:\n",
    "    print(f'{subtask.name}: {subtask.description}, difficulty: {subtask.difficulty}')"
   ]
  },
  {
   "cell_type": "code",
   "execution_count": null,
   "metadata": {},
   "outputs": [],
   "source": [
    "type(output_value.subtasks[0])"
   ]
  }
 ],
 "metadata": {
  "kernelspec": {
   "display_name": "Python 3 (ipykernel)",
   "language": "python",
   "name": "python3"
  },
  "language_info": {
   "codemirror_mode": {
    "name": "ipython",
    "version": 3
   },
   "file_extension": ".py",
   "mimetype": "text/x-python",
   "name": "python",
   "nbconvert_exporter": "python",
   "pygments_lexer": "ipython3",
   "version": "3.11.3"
  }
 },
 "nbformat": 4,
 "nbformat_minor": 2
}
