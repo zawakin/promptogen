{
 "cells": [
  {
   "cell_type": "markdown",
   "metadata": {},
   "source": [
    "# プロンプトを自動生成してみよう\n",
    "\n",
    "`PromptCreator` は、目的と背景を入力として、プロンプトを自動生成するプロンプトです。\n",
    "\n",
    "PromptGenでは、プロンプトのモデルそのものも入出力パラメータとして扱うことができます。これにより、プロンプトを自動生成するプロンプトを作成することができます。"
   ]
  },
  {
   "cell_type": "code",
   "execution_count": 1,
   "metadata": {},
   "outputs": [],
   "source": [
    "import promptgen as pg"
   ]
  },
  {
   "cell_type": "code",
   "execution_count": 2,
   "metadata": {},
   "outputs": [
    {
     "name": "stdout",
     "output_type": "stream",
     "text": [
      "<PromptCollection>\n",
      "Number of prompts: 6\n",
      "\n",
      "Prompts:\n",
      "- TextCategorizer: (text: str, categories: list) -> (category: str, found: bool)\n",
      "- TextSummarizer: (text: str) -> (summary: str)\n",
      "- PromptExampleCreator: (prompt: Prompt, n: int) -> (examples: list)\n",
      "- PromptCreator: (purpose: str, background: str) -> (prompt: Prompt)\n",
      "- PromptOptimizer: (original_prompt: Prompt, background: str) -> (optimized_prompt: Prompt)\n",
      "- PythonCodeGenerator: (task: str) -> (reason: str, code: str)\n",
      "\n"
     ]
    }
   ],
   "source": [
    "collection = pg.PromptCollection(load_predefined=True)\n",
    "print(collection)"
   ]
  },
  {
   "cell_type": "markdown",
   "metadata": {},
   "source": [
    "## プロンプトを生成するプロンプト\n",
    "\n",
    "`PromptCreator` は、プロンプトを生成するプロンプトです。\n",
    "\n",
    "入力パラメータは、以下の通りです。\n",
    "\n",
    "```python\n",
    "class PromptCreatorInput(InputValue):\n",
    "    purpose: str\n",
    "    background: str\n",
    "```\n",
    "\n",
    "出力パラメータは、以下の通りです。\n",
    "\n",
    "```python\n",
    "class PromptCreatorOutput(OutputValue):\n",
    "    prompt: Prompt\n",
    "```"
   ]
  },
  {
   "cell_type": "code",
   "execution_count": 3,
   "metadata": {
    "scrolled": true
   },
   "outputs": [
    {
     "data": {
      "text/plain": [
       "Prompt: PromptCreator\n",
       "\n",
       "Create a prompt from the given purpose. Don't create an example with the input purpose. Instead, create an example with a different purpose. Consider background information that is necessary to understand the purpose.\n",
       "\n",
       "Input Parameters:\n",
       "    - purpose (str): purpose of the prompt\n",
       "    - background (str): background of the prompt\n",
       "\n",
       "Output Parameters:\n",
       "    - prompt (Prompt): prompt created from the given purpose. Is has 'name', 'description', 'input_parameters', 'output_parameters', 'template', and 'examples'."
      ]
     },
     "execution_count": 3,
     "metadata": {},
     "output_type": "execute_result"
    }
   ],
   "source": [
    "prompt_creator = collection['PromptCreator']\n",
    "prompt_creator"
   ]
  },
  {
   "cell_type": "markdown",
   "metadata": {},
   "source": [
    "プロンプトを文字列にフォーマットすると、以下のようになります。"
   ]
  },
  {
   "cell_type": "code",
   "execution_count": 4,
   "metadata": {},
   "outputs": [
    {
     "name": "stdout",
     "output_type": "stream",
     "text": [
      "You are an AI named \"PromptCreator\".\n",
      "Create a prompt from the given purpose. Don't create an example with the input purpose. Instead, create an example with a different purpose. Consider background information that is necessary to understand the purpose.\n",
      "You should follow 'Template' format. The format is 'key: value'.\n",
      "\n",
      "Input Parameters:\n",
      "  - purpose: purpose of the prompt\n",
      "  - background: background of the prompt\n",
      "\n",
      "Output Parameters:\n",
      "  - prompt: prompt created from the given purpose. Is has 'name', 'description', 'input_parameters', 'output_parameters', 'template', and 'examples'.\n",
      "\n",
      "Template:\n",
      "Input:\n",
      "purpose: \"\"\"purpose of the prompt\"\"\"\n",
      "background: \"\"\"background of the prompt\"\"\"\n",
      "Output:\n",
      "prompt: { 'name': 'sample-new prompt',\n",
      "  'description': 'A sample prompt.',\n",
      "  'input_parameters': [{'name': 'input1', 'description': 'The first input parameter.'}, {'name': 'input2', 'description': 'The second input parameter.'}],\n",
      "  'output_parameters': [{'name': 'output1', 'description': 'The first output parameter.'}, {'name': 'output2', 'description': 'The second output parameter.'}],\n",
      "  'template': {'input': {'input1': 'Hello, world!', 'input2': 'Hello, world!'}, 'output': {'output1': 'Hello, world!', 'output2': 'Hello, world!'}},\n",
      "  'examples': [ {'input': {'input1': 'Hello, world!', 'input2': 'Hello, world!'}, 'output': {'output1': 'Hello, world!', 'output2': 'Hello, world!'}},\n",
      "                {'input': {'input1': 'Hello, world!', 'input2': 'Hello, world!'}, 'output': {'output1': 'Hello, world!', 'output2': 'Hello, world!'}}]}\n",
      "\n",
      "Example 1:\n",
      "Input:\n",
      "purpose: \"\"\"Categorize the given text into one of the given categories.\"\"\"\n",
      "background: \"\"\"The given text may be a sentence, a paragraph, or a document.\"\"\"\n",
      "Output:\n",
      "prompt: { 'name': 'TextCategorizer',\n",
      "  'description': 'Categorize the given text',\n",
      "  'input_parameters': [ {'name': 'text', 'description': 'The text to be categorized'},\n",
      "                        {'name': 'categories', 'description': 'The categories to categorize the text into'}],\n",
      "  'output_parameters': [ {'name': 'category', 'description': 'The category the text belongs to'},\n",
      "                         {'name': 'found', 'description': 'Whether the category was found in the text'}],\n",
      "  'template': {'input': {'text': 'text', 'categories': ['category 1', 'category 2']}, 'output': {'category': 'category 1', 'found': True}},\n",
      "  'examples': [ { 'input': { 'text': 'A recent study shows that regular exercise can help improve cognitive function in older adults.',\n",
      "                             'categories': ['Health', 'Science', 'Technology']},\n",
      "                  'output': {'category': 'Health', 'found': True}}]}\n",
      "\n",
      "Example 2:\n",
      "Input:\n",
      "purpose: \"\"\"Python code generator\"\"\"\n",
      "background: \"\"\"style: input: (task: str), output: (reason: str, code: str)\"\"\"\n",
      "Output:\n",
      "prompt: { 'name': 'PythonCodeGenerator',\n",
      "  'description': 'Generate Python code based on the given task',\n",
      "  'input_parameters': [{'name': 'task', 'description': 'The task for which Python code needs to be generated'}],\n",
      "  'output_parameters': [ {'name': 'reason', 'description': 'Reason for the generated Python code'},\n",
      "                         {'name': 'code', 'description': 'Python code generated to complete the task'}],\n",
      "  'template': {'input': {'task': 'task'}, 'output': {'reason': 'reason', 'code': 'code'}},\n",
      "  'examples': [ { 'input': {'task': 'Create a function that calculates the factorial of a number'},\n",
      "                  'output': { 'reason': 'Factorial function is a common use case in Python programming',\n",
      "                              'code': 'def factorial(n):\\n    if n == 0:\\n        return 1\\n    else:\\n        return n * factorial(n-1)'}}]}\n",
      "\n"
     ]
    }
   ],
   "source": [
    "formatter = pg.KeyValuePromptFormatter()\n",
    "\n",
    "print(formatter.format_prompt_without_input(prompt=prompt_creator))"
   ]
  },
  {
   "cell_type": "markdown",
   "metadata": {},
   "source": [
    "## 大規模言語モデルの準備\n",
    "\n",
    "今回は、 `gpt-3.5-turbo` を使います。"
   ]
  },
  {
   "cell_type": "code",
   "execution_count": 5,
   "metadata": {},
   "outputs": [],
   "source": [
    "import openai\n",
    "import os\n",
    "\n",
    "from dotenv import load_dotenv\n",
    "load_dotenv('../../.env')\n",
    "\n",
    "openai.api_key = os.getenv(\"OPENAI_API_KEY\")\n",
    "openai.organization = os.getenv(\"OPENAI_ORG_ID\")\n",
    "\n",
    "def generate_llm_response(prompt: str, model: str) -> str:\n",
    "    resp = openai.ChatCompletion.create(model=model, messages=[\n",
    "        {'role': 'user', 'content': prompt}\n",
    "    ], max_tokens=2048)\n",
    "    return resp['choices'][0]['message'].get('content', '')"
   ]
  },
  {
   "cell_type": "code",
   "execution_count": 6,
   "metadata": {},
   "outputs": [],
   "source": [
    "class PromptCreatorInput(pg.InputValue):\n",
    "    purpose: str\n",
    "    background: str\n",
    "\n",
    "class PromptCreatorOutput(pg.OutputValue):\n",
    "    prompt: pg.Prompt"
   ]
  },
  {
   "cell_type": "code",
   "execution_count": 7,
   "metadata": {},
   "outputs": [
    {
     "data": {
      "text/plain": [
       "Prompt: PythonCodeGenerator2\n",
       "\n",
       "Generate Python code based on the given task.\n",
       "\n",
       "Input Parameters:\n",
       "    - task (str): The task for which the Python code needs to be generated\n",
       "\n",
       "Output Parameters:\n",
       "    - reason (str): The reason for the generated Python code\n",
       "    - code (str): The Python code generated to complete the task"
      ]
     },
     "execution_count": 7,
     "metadata": {},
     "output_type": "execute_result"
    }
   ],
   "source": [
    "raw_req = formatter.format_prompt(prompt_creator, PromptCreatorInput(\n",
    "    purpose='Generate Python code from given task',\n",
    "    background='style: input: (task: str), output: (reason: str, code: str)')\n",
    ")\n",
    "raw_resp = generate_llm_response(raw_req, 'gpt-3.5-turbo')\n",
    "resp = PromptCreatorOutput.from_dataclass(formatter.parse(prompt_creator, raw_resp))\n",
    "\n",
    "code_generator = pg.Prompt.from_dict(resp.prompt)\n",
    "code_generator"
   ]
  },
  {
   "cell_type": "markdown",
   "metadata": {},
   "source": [
    "作成したプロンプトを使って、タスクを分解してみましょう。"
   ]
  },
  {
   "cell_type": "code",
   "execution_count": 8,
   "metadata": {},
   "outputs": [
    {
     "name": "stdout",
     "output_type": "stream",
     "text": [
      "reason: \"\"\"The task requires converting all characters in a string to upper-case and then reading from stdin and writing to stdout\"\"\"\n",
      "code: \"\"\"import sys\n",
      "for line in sys.stdin:\n",
      "    sys.stdout.write(line.upper())\"\"\"\n"
     ]
    }
   ],
   "source": [
    "raw_req = formatter.format_prompt(code_generator, pg.InputValue.from_dict({\n",
    "    'task': 'read stdin as stream and write stdout the upper-case string'\n",
    "}))\n",
    "raw_resp = generate_llm_response(raw_req, 'gpt-3.5-turbo')\n",
    "\n",
    "print(raw_resp)"
   ]
  },
  {
   "cell_type": "code",
   "execution_count": 9,
   "metadata": {},
   "outputs": [
    {
     "data": {
      "text/plain": [
       "OutputValue(reason='The task requires converting all characters in a string to upper-case and then reading from stdin and writing to stdout', code='import sys\\nfor line in sys.stdin:\\n    sys.stdout.write(line.upper())')"
      ]
     },
     "execution_count": 9,
     "metadata": {},
     "output_type": "execute_result"
    }
   ],
   "source": [
    "output_value = formatter.parse(code_generator, raw_resp)\n",
    "output_value"
   ]
  },
  {
   "cell_type": "code",
   "execution_count": 10,
   "metadata": {
    "scrolled": true
   },
   "outputs": [
    {
     "name": "stdout",
     "output_type": "stream",
     "text": [
      "import sys\n",
      "for line in sys.stdin:\n",
      "    sys.stdout.write(line.upper())\n"
     ]
    }
   ],
   "source": [
    "print(output_value['code'])"
   ]
  }
 ],
 "metadata": {
  "kernelspec": {
   "display_name": "Python 3 (ipykernel)",
   "language": "python",
   "name": "python3"
  },
  "language_info": {
   "codemirror_mode": {
    "name": "ipython",
    "version": 3
   },
   "file_extension": ".py",
   "mimetype": "text/x-python",
   "name": "python",
   "nbconvert_exporter": "python",
   "pygments_lexer": "ipython3",
   "version": "3.11.3"
  }
 },
 "nbformat": 4,
 "nbformat_minor": 2
}
